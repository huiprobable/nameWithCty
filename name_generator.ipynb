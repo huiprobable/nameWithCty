{
 "cells": [
  {
   "cell_type": "code",
   "execution_count": 89,
   "id": "0597be85-6969-4c1e-b29f-51e06a9f7994",
   "metadata": {
    "tags": []
   },
   "outputs": [],
   "source": [
    "from load_dataset import *\n",
    "from layers import *"
   ]
  },
  {
   "cell_type": "code",
   "execution_count": 98,
   "id": "bb6f7a36-15d1-42cc-8efb-ef573842dc9f",
   "metadata": {
    "tags": []
   },
   "outputs": [
    {
     "data": {
      "text/plain": [
       "75"
      ]
     },
     "execution_count": 98,
     "metadata": {},
     "output_type": "execute_result"
    }
   ],
   "source": [
    "cty_size"
   ]
  },
  {
   "cell_type": "code",
   "execution_count": 2,
   "id": "a3095a63-593d-4008-9c43-ab67033a1c07",
   "metadata": {
    "tags": []
   },
   "outputs": [],
   "source": [
    "n_embd = 32\n",
    "n_embd_city = 5\n",
    "n_layer = 2\n",
    "tkemb = Embedding(vocab_size, n_embd)\n",
    "ctemb = Embedding(cty_size, n_embd_city)\n",
    "batch_size = 32\n",
    "ix = torch.randint(0, Xtr.shape[0], (batch_size,))"
   ]
  },
  {
   "cell_type": "code",
   "execution_count": 3,
   "id": "58ec42f7-ad0c-4add-9620-eb1de12805b4",
   "metadata": {
    "tags": []
   },
   "outputs": [
    {
     "data": {
      "text/plain": [
       "torch.Size([32])"
      ]
     },
     "execution_count": 3,
     "metadata": {},
     "output_type": "execute_result"
    }
   ],
   "source": [
    "Ytr[ix].shape"
   ]
  },
  {
   "cell_type": "code",
   "execution_count": 84,
   "id": "48ce6af6-2bfe-4b56-b339-d996d474e647",
   "metadata": {
    "tags": []
   },
   "outputs": [],
   "source": [
    "Dict_cty = {c:sum([cty==c for cty in countries]) for c in list(set(countries))}"
   ]
  },
  {
   "cell_type": "code",
   "execution_count": 86,
   "id": "f3d815cd-5033-4098-a6ac-928cd956b49c",
   "metadata": {
    "tags": []
   },
   "outputs": [
    {
     "data": {
      "text/plain": [
       "<matplotlib.collections.PathCollection at 0x16c684d90>"
      ]
     },
     "execution_count": 86,
     "metadata": {},
     "output_type": "execute_result"
    },
    {
     "data": {
      "image/png": "[encoded data removed]",
      "text/plain": [
       "<Figure size 640x480 with 1 Axes>"
      ]
     },
     "metadata": {},
     "output_type": "display_data"
    }
   ],
   "source": [
    "plt.scatter(range(cty_size), Dict_cty.values())"
   ]
  },
  {
   "cell_type": "code",
   "execution_count": 4,
   "id": "417f64eb-e8b6-48a4-8920-f04a2c43b3cb",
   "metadata": {
    "tags": []
   },
   "outputs": [
    {
     "ename": "NameError",
     "evalue": "name 'Block' is not defined",
     "output_type": "error",
     "traceback": [
      "\u001b[0;31m---------------------------------------------------------------------------\u001b[0m",
      "\u001b[0;31mNameError\u001b[0m                                 Traceback (most recent call last)",
      "Cell \u001b[0;32mIn[4], line 1\u001b[0m\n\u001b[0;32m----> 1\u001b[0m AAA \u001b[38;5;241m=\u001b[39m Sequential([Block(n_embd\u001b[38;5;241m*\u001b[39mblock_size\u001b[38;5;241m+\u001b[39mn_embd_city) \u001b[38;5;28;01mfor\u001b[39;00m _ \u001b[38;5;129;01min\u001b[39;00m \u001b[38;5;28mrange\u001b[39m(n_layer)])\n",
      "Cell \u001b[0;32mIn[4], line 1\u001b[0m, in \u001b[0;36m<listcomp>\u001b[0;34m(.0)\u001b[0m\n\u001b[0;32m----> 1\u001b[0m AAA \u001b[38;5;241m=\u001b[39m Sequential([Block(n_embd\u001b[38;5;241m*\u001b[39mblock_size\u001b[38;5;241m+\u001b[39mn_embd_city) \u001b[38;5;28;01mfor\u001b[39;00m _ \u001b[38;5;129;01min\u001b[39;00m \u001b[38;5;28mrange\u001b[39m(n_layer)])\n",
      "\u001b[0;31mNameError\u001b[0m: name 'Block' is not defined"
     ]
    }
   ],
   "source": [
    "AAA = Sequential([Block(n_embd*block_size+n_embd_city) for _ in range(n_layer)])"
   ]
  },
  {
   "cell_type": "code",
   "execution_count": 28,
   "id": "92b8958b-8640-43d1-b472-e063e3074c13",
   "metadata": {
    "tags": []
   },
   "outputs": [
    {
     "data": {
      "text/plain": [
       "[torch.Size([101, 101]),\n",
       " torch.Size([101]),\n",
       " torch.Size([101]),\n",
       " torch.Size([101, 101]),\n",
       " torch.Size([101]),\n",
       " torch.Size([101])]"
      ]
     },
     "execution_count": 28,
     "metadata": {},
     "output_type": "execute_result"
    }
   ],
   "source": [
    "[i.shape for i in AAA.parameters()]"
   ]
  },
  {
   "cell_type": "code",
   "execution_count": 65,
   "id": "88866e18-d3f1-4b91-a7eb-5b7a4d60baa3",
   "metadata": {
    "tags": []
   },
   "outputs": [],
   "source": [
    "n_embd = 32\n",
    "n_embd_city = 5\n",
    "n_layer = 2\n",
    "\n",
    "class Block(nn.Module):\n",
    "\n",
    "    def __init__(self, fan_in):\n",
    "        super().__init__()\n",
    "        self.li = Linear(fan_in, fan_in, bias=False)\n",
    "        self.bn = BatchNorm1d(fan_in)  # batchnorm\n",
    "\n",
    "    def forward(self, x):\n",
    "        x = x + F.tanh(self.bn(self.li(x))) # residue net\n",
    "        return x\n",
    "    \n",
    "    def parameters(self):\n",
    "        return self.li.parameters()+self.bn.parameters()\n",
    "\n",
    "class Model(nn.Module):\n",
    "\n",
    "    def __init__(self):\n",
    "        super().__init__()\n",
    "        self.token_embedding_table = Embedding(vocab_size, n_embd)\n",
    "        self.country_embedding_table = Embedding(cty_size, n_embd_city)        \n",
    "        self.blocks = Sequential([Block(n_embd*block_size+n_embd_city) for _ in range(n_layer)])\n",
    "        self.linear_f = Linear(n_embd*block_size+n_embd_city, vocab_size)\n",
    "\n",
    "    def forward(self, idx, idx_cty, targets=None):\n",
    "        B, T = idx.shape\n",
    "\n",
    "        tok_emb = self.token_embedding_table(idx) # (B,T,C1)\n",
    "        cty_emb = self.country_embedding_table(idx_cty) # (B,C2)\n",
    "        x = torch.cat((tok_emb.view(B,-1), cty_emb),1) # (B,T*C1+C2)\n",
    "        x = self.blocks(x) # (B,T*C1+C2)\n",
    "        logits = self.linear_f(x) # (B,vocab_size)\n",
    "\n",
    "        if targets is None:\n",
    "            loss = None\n",
    "        else:\n",
    "            loss = F.cross_entropy(logits, targets)\n",
    "\n",
    "        return logits, loss\n",
    "    \n",
    "    def parameters(self):\n",
    "        return self.token_embedding_table.parameters()+ \\\n",
    "                self.country_embedding_table.parameters() + \\\n",
    "                self.blocks.parameters()+self.linear_f.parameters()\n",
    "\n",
    "    def generate(self, idx, idx_cty, max_new_tokens=20):\n",
    "        # idx is (B, T) array of indices in the current context\n",
    "        for _ in range(max_new_tokens):\n",
    "            # crop idx to the last block_size tokens\n",
    "            idx_cond = idx[:, -block_size:]\n",
    "            # get the predictions\n",
    "            logits, loss = self(idx_cond, idx_cty)\n",
    "            # apply softmax to get probabilities\n",
    "            probs = F.softmax(logits, dim=-1) # (B, C)\n",
    "            # sample from the distribution\n",
    "            idx_next = torch.multinomial(probs, num_samples=1) # (B, 1)\n",
    "            if idx_next == 0:\n",
    "                break\n",
    "            # append sampled index to the running sequence\n",
    "            idx = torch.cat((idx, idx_next), dim=1) # (B, T+1)\n",
    "        return idx\n"
   ]
  },
  {
   "cell_type": "code",
   "execution_count": 66,
   "id": "4267855f-f9f4-4048-abc3-014c43a3efdc",
   "metadata": {
    "tags": []
   },
   "outputs": [],
   "source": [
    "model = Model()"
   ]
  },
  {
   "cell_type": "code",
   "execution_count": 67,
   "id": "3687b650-d9de-4028-9c26-4b364ba1af3b",
   "metadata": {
    "tags": []
   },
   "outputs": [
    {
     "data": {
      "text/plain": [
       "[torch.Size([143, 32]),\n",
       " torch.Size([75, 5]),\n",
       " torch.Size([101, 101]),\n",
       " torch.Size([101]),\n",
       " torch.Size([101]),\n",
       " torch.Size([101, 101]),\n",
       " torch.Size([101]),\n",
       " torch.Size([101]),\n",
       " torch.Size([101, 143]),\n",
       " torch.Size([143])]"
      ]
     },
     "execution_count": 67,
     "metadata": {},
     "output_type": "execute_result"
    }
   ],
   "source": [
    "[i.shape for i in model.parameters()]"
   ]
  },
  {
   "cell_type": "code",
   "execution_count": 68,
   "id": "b9311d02-1390-44da-949a-018cd50130b6",
   "metadata": {
    "tags": []
   },
   "outputs": [
    {
     "name": "stdout",
     "output_type": "stream",
     "text": [
      "40343\n"
     ]
    },
    {
     "data": {
      "text/plain": [
       "Model(\n",
       "  (token_embedding_table): Embedding()\n",
       "  (country_embedding_table): Embedding()\n",
       "  (blocks): Sequential()\n",
       "  (linear_f): Linear()\n",
       ")"
      ]
     },
     "execution_count": 68,
     "metadata": {},
     "output_type": "execute_result"
    }
   ],
   "source": [
    "parameters = model.parameters()\n",
    "print(sum(p.nelement() for p in parameters)) # number of parameters in total\n",
    "for p in parameters:\n",
    "    p.requires_grad = True\n",
    "\n",
    "device = torch.device(\"cuda\" if torch.cuda.is_available() else \"cpu\")\n",
    "model.to(device)\n"
   ]
  },
  {
   "cell_type": "code",
   "execution_count": 69,
   "id": "d1d7bc59-c84b-4ca1-ab62-e512cb729880",
   "metadata": {
    "tags": []
   },
   "outputs": [
    {
     "data": {
      "text/plain": [
       "143"
      ]
     },
     "execution_count": 69,
     "metadata": {},
     "output_type": "execute_result"
    }
   ],
   "source": [
    "vocab_size\n",
    "# logits, loss = model(Xb, Cb, Yb)"
   ]
  },
  {
   "cell_type": "code",
   "execution_count": 70,
   "id": "0aeb93da-8972-4134-b1db-a74e4bdfad27",
   "metadata": {
    "tags": []
   },
   "outputs": [
    {
     "name": "stdout",
     "output_type": "stream",
     "text": [
      "      0/  20000: 5.8502 5.8117\n",
      "      0/  20000: 6.1977\n",
      "    100/  20000: 2.7794 2.9366\n",
      "    200/  20000: 2.5692 2.7062\n",
      "    300/  20000: 2.4168 2.5926\n",
      "    400/  20000: 2.3591 2.5025\n",
      "    500/  20000: 2.3172 2.4807\n",
      "    600/  20000: 2.2047 2.4119\n",
      "    700/  20000: 2.1852 2.3851\n",
      "    800/  20000: 2.1268 2.3759\n",
      "    900/  20000: 2.1275 2.3871\n",
      "   1000/  20000: 2.0864 2.3851\n",
      "   1100/  20000: 2.0683 2.3723\n",
      "   1200/  20000: 2.0173 2.3330\n",
      "   1300/  20000: 1.9820 2.2902\n",
      "   1400/  20000: 1.9373 2.3106\n",
      "   1500/  20000: 1.9268 2.2387\n",
      "   1600/  20000: 1.9213 2.2862\n",
      "   1700/  20000: 1.8838 2.2562\n",
      "   1800/  20000: 1.8688 2.2571\n",
      "   1900/  20000: 1.8587 2.2833\n",
      "   2000/  20000: 1.8685 2.2916\n",
      "   2100/  20000: 1.8229 2.2537\n",
      "   2200/  20000: 1.8097 2.2406\n",
      "   2300/  20000: 1.8145 2.2386\n",
      "   2400/  20000: 1.8318 2.3124\n",
      "   2500/  20000: 1.7550 2.2401\n",
      "   2600/  20000: 1.7995 2.3139\n",
      "   2700/  20000: 1.7689 2.2982\n",
      "   2800/  20000: 1.7455 2.2747\n",
      "   2900/  20000: 1.7487 2.2951\n",
      "   3000/  20000: 1.7164 2.2428\n",
      "   3100/  20000: 1.6973 2.2605\n",
      "   3200/  20000: 1.6795 2.2073\n",
      "   3300/  20000: 1.6701 2.2037\n",
      "   3400/  20000: 1.6795 2.2703\n",
      "   3500/  20000: 1.6706 2.2093\n",
      "   3600/  20000: 1.6780 2.2611\n",
      "   3700/  20000: 1.6424 2.2186\n",
      "   3800/  20000: 1.6375 2.2186\n",
      "   3900/  20000: 1.6282 2.2397\n",
      "   4000/  20000: 1.6214 2.2223\n",
      "   4100/  20000: 1.6374 2.2243\n",
      "   4200/  20000: 1.6250 2.2149\n",
      "   4300/  20000: 1.6133 2.2325\n",
      "   4400/  20000: 1.6091 2.2447\n",
      "   4500/  20000: 1.5977 2.2283\n",
      "   4600/  20000: 1.6023 2.2496\n",
      "   4700/  20000: 1.5632 2.1938\n",
      "   4800/  20000: 1.5795 2.2375\n",
      "   4900/  20000: 1.5533 2.2046\n",
      "   5000/  20000: 1.5582 2.2159\n",
      "   5100/  20000: 1.5895 2.2298\n",
      "   5200/  20000: 1.5891 2.2439\n",
      "   5300/  20000: 1.5429 2.2379\n",
      "   5400/  20000: 1.5537 2.2249\n",
      "   5500/  20000: 1.5488 2.2415\n",
      "   5600/  20000: 1.5704 2.2446\n",
      "   5700/  20000: 1.5464 2.2406\n",
      "   5800/  20000: 1.5380 2.2483\n",
      "   5900/  20000: 1.5302 2.2456\n",
      "   6000/  20000: 1.4940 2.2135\n",
      "   6100/  20000: 1.4885 2.2047\n",
      "   6200/  20000: 1.5100 2.2963\n",
      "   6300/  20000: 1.5119 2.2483\n",
      "   6400/  20000: 1.4867 2.2090\n",
      "   6500/  20000: 1.4744 2.2091\n",
      "   6600/  20000: 1.5023 2.2286\n",
      "   6700/  20000: 1.4608 2.2394\n",
      "   6800/  20000: 1.4692 2.2139\n",
      "   6900/  20000: 1.4504 2.2260\n",
      "   7000/  20000: 1.4954 2.2720\n",
      "   7100/  20000: 1.5022 2.3201\n",
      "   7200/  20000: 1.4599 2.2633\n",
      "   7300/  20000: 1.4578 2.2864\n",
      "   7400/  20000: 1.4556 2.2926\n",
      "   7500/  20000: 1.5075 2.3078\n",
      "   7600/  20000: 1.4743 2.2867\n",
      "   7700/  20000: 1.4618 2.2923\n",
      "   7800/  20000: 1.4997 2.3160\n",
      "   7900/  20000: 1.4436 2.2344\n",
      "   8000/  20000: 1.4421 2.3038\n",
      "   8100/  20000: 1.4625 2.3088\n",
      "   8200/  20000: 1.4477 2.2358\n",
      "   8300/  20000: 1.4156 2.2489\n",
      "   8400/  20000: 1.4365 2.3124\n",
      "   8500/  20000: 1.4231 2.2350\n",
      "   8600/  20000: 1.4290 2.2566\n",
      "   8700/  20000: 1.4068 2.2522\n",
      "   8800/  20000: 1.4139 2.2154\n",
      "   8900/  20000: 1.4204 2.2448\n",
      "   9000/  20000: 1.4206 2.2106\n",
      "   9100/  20000: 1.4605 2.3239\n",
      "   9200/  20000: 1.4334 2.2806\n",
      "   9300/  20000: 1.4237 2.2569\n",
      "   9400/  20000: 1.3926 2.2061\n",
      "   9500/  20000: 1.3791 2.2023\n",
      "   9600/  20000: 1.3887 2.1896\n",
      "   9700/  20000: 1.3815 2.2096\n",
      "   9800/  20000: 1.3883 2.2658\n",
      "   9900/  20000: 1.3973 2.2515\n",
      "  10000/  20000: 1.3892 2.2783\n",
      "  10000/  20000: 1.2747\n",
      "  10100/  20000: 1.3877 2.2572\n",
      "  10200/  20000: 1.4133 2.2638\n",
      "  10300/  20000: 1.3742 2.2479\n",
      "  10400/  20000: 1.4174 2.2547\n",
      "  10500/  20000: 1.3803 2.2687\n",
      "  10600/  20000: 1.3853 2.2757\n",
      "  10700/  20000: 1.3749 2.2416\n",
      "  10800/  20000: 1.3892 2.2268\n",
      "  10900/  20000: 1.3810 2.2584\n",
      "  11000/  20000: 1.3863 2.2464\n",
      "  11100/  20000: 1.3558 2.2291\n",
      "  11200/  20000: 1.4095 2.2817\n",
      "  11300/  20000: 1.3614 2.2842\n",
      "  11400/  20000: 1.3637 2.2534\n",
      "  11500/  20000: 1.3690 2.2411\n",
      "  11600/  20000: 1.3531 2.2427\n",
      "  11700/  20000: 1.3692 2.2452\n",
      "  11800/  20000: 1.3707 2.2929\n",
      "  11900/  20000: 1.3928 2.3370\n",
      "  12000/  20000: 1.3906 2.3100\n",
      "  12100/  20000: 1.3632 2.2626\n",
      "  12200/  20000: 1.3622 2.2878\n",
      "  12300/  20000: 1.3385 2.2380\n",
      "  12400/  20000: 1.3592 2.2412\n",
      "  12500/  20000: 1.3545 2.2360\n",
      "  12600/  20000: 1.3795 2.3161\n",
      "  12700/  20000: 1.3682 2.2660\n",
      "  12800/  20000: 1.3565 2.2646\n",
      "  12900/  20000: 1.3581 2.2425\n",
      "  13000/  20000: 1.3838 2.2655\n",
      "  13100/  20000: 1.3569 2.2213\n",
      "  13200/  20000: 1.3691 2.2580\n",
      "  13300/  20000: 1.3833 2.3086\n",
      "  13400/  20000: 1.3564 2.2381\n",
      "  13500/  20000: 1.3265 2.2091\n",
      "  13600/  20000: 1.3543 2.2687\n",
      "  13700/  20000: 1.3357 2.2722\n",
      "  13800/  20000: 1.3464 2.2875\n",
      "  13900/  20000: 1.3520 2.2684\n",
      "  14000/  20000: 1.3325 2.3236\n",
      "  14100/  20000: 1.3413 2.3423\n",
      "  14200/  20000: 1.3425 2.3193\n",
      "  14300/  20000: 1.3432 2.3076\n",
      "  14400/  20000: 1.3457 2.2741\n",
      "  14500/  20000: 1.3303 2.2847\n",
      "  14600/  20000: 1.3449 2.2988\n",
      "  14700/  20000: 1.3766 2.3020\n",
      "  14800/  20000: 1.3624 2.3217\n",
      "  14900/  20000: 1.3157 2.2691\n",
      "  15000/  20000: 1.3559 2.3408\n",
      "  15100/  20000: 1.3216 2.3212\n",
      "  15200/  20000: 1.3233 2.3346\n",
      "  15300/  20000: 1.3467 2.3476\n",
      "  15400/  20000: 1.3622 2.3877\n",
      "  15500/  20000: 1.3318 2.2865\n",
      "  15600/  20000: 1.3228 2.2854\n",
      "  15700/  20000: 1.3184 2.2761\n",
      "  15800/  20000: 1.3232 2.2701\n",
      "  15900/  20000: 1.3145 2.2866\n",
      "  16000/  20000: 1.3428 2.3274\n",
      "  16100/  20000: 1.3097 2.2895\n",
      "  16200/  20000: 1.3213 2.2880\n",
      "  16300/  20000: 1.3182 2.3194\n",
      "  16400/  20000: 1.3321 2.3099\n",
      "  16500/  20000: 1.3373 2.3326\n",
      "  16600/  20000: 1.2928 2.2335\n",
      "  16700/  20000: 1.3259 2.3095\n",
      "  16800/  20000: 1.2990 2.2739\n",
      "  16900/  20000: 1.3091 2.2689\n",
      "  17000/  20000: 1.3146 2.3299\n",
      "  17100/  20000: 1.3180 2.2812\n",
      "  17200/  20000: 1.3354 2.3240\n",
      "  17300/  20000: 1.3330 2.3040\n",
      "  17400/  20000: 1.3080 2.3179\n",
      "  17500/  20000: 1.2842 2.2603\n",
      "  17600/  20000: 1.3233 2.2923\n",
      "  17700/  20000: 1.3274 2.3158\n",
      "  17800/  20000: 1.2993 2.2504\n",
      "  17900/  20000: 1.2827 2.2759\n",
      "  18000/  20000: 1.3127 2.3265\n",
      "  18100/  20000: 1.3198 2.2877\n",
      "  18200/  20000: 1.3304 2.2766\n",
      "  18300/  20000: 1.3294 2.3485\n",
      "  18400/  20000: 1.2860 2.3185\n",
      "  18500/  20000: 1.2945 2.2966\n",
      "  18600/  20000: 1.3048 2.2778\n",
      "  18700/  20000: 1.3014 2.3064\n",
      "  18800/  20000: 1.2966 2.2425\n",
      "  18900/  20000: 1.2790 2.2855\n",
      "  19000/  20000: 1.3132 2.3306\n",
      "  19100/  20000: 1.3125 2.3772\n",
      "  19200/  20000: 1.2994 2.3172\n",
      "  19300/  20000: 1.3122 2.3182\n",
      "  19400/  20000: 1.3013 2.3216\n",
      "  19500/  20000: 1.3101 2.3416\n",
      "  19600/  20000: 1.3028 2.3035\n",
      "  19700/  20000: 1.3242 2.3671\n",
      "  19800/  20000: 1.2995 2.3229\n",
      "  19900/  20000: 1.3211 2.3161\n"
     ]
    }
   ],
   "source": [
    "# same optimization as last time\n",
    "max_steps = 20000\n",
    "eval_step = 100\n",
    "batch_size = 32\n",
    "lossi = []\n",
    "lossT = []\n",
    "lossD = []\n",
    "learning_rate = 0.01\n",
    "\n",
    "optimizer = torch.optim.AdamW(model.parameters(), lr=learning_rate)\n",
    "\n",
    "for i in range(max_steps):\n",
    "    if i%eval_step == 0:\n",
    "        for block in model.blocks.layers:\n",
    "            block.bn.training = False\n",
    "        lossTr, lossDe = eval_loss()\n",
    "        print(f'{i:7d}/{max_steps:7d}: {lossTr:.4f} {lossDe:.4f}')\n",
    "        lossT.append(lossTr)\n",
    "        lossD.append(lossDe)\n",
    "  \n",
    "  # minibatch construct\n",
    "    ix = torch.randint(0, Xtr.shape[0], (batch_size,))\n",
    "    Xb, Cb, Yb = Xtr[ix], Ctr[ix], Ytr[ix] # batch X,Y\n",
    "  \n",
    "  # forward pass\n",
    "    logits, loss = model(Xb, Cb, Yb)\n",
    "    optimizer.zero_grad(set_to_none=True)\n",
    "    loss.backward()\n",
    "    optimizer.step()\n",
    "    if i % 10000 == 0: # print every once in a while\n",
    "        print(f'{i:7d}/{max_steps:7d}: {loss.item():.4f}')\n",
    "    lossi.append(loss.log10().item())"
   ]
  },
  {
   "cell_type": "code",
   "execution_count": 63,
   "id": "ae5e4a8f-c6a0-4253-8403-204e0061589d",
   "metadata": {
    "tags": []
   },
   "outputs": [
    {
     "name": "stdout",
     "output_type": "stream",
     "text": [
      "train 1.3916823863983154\n",
      "val 2.1538608074188232\n"
     ]
    }
   ],
   "source": [
    "# put layers into eval mode (needed for batchnorm especially)\n",
    "for block in model.blocks.layers:\n",
    "    block.bn.training = False\n",
    "\n",
    "# evaluate the loss\n",
    "@torch.no_grad() # this decorator disables gradient tracking inside pytorch\n",
    "def split_loss(split):\n",
    "    x,c,y = {\n",
    "        'train': (Xtr, Ctr, Ytr),\n",
    "        'val': (Xde, Cde, Yde),\n",
    "    }[split]\n",
    "    logits, loss = model(x, c, y)\n",
    "    print(split, loss.item())\n",
    "    \n",
    "@torch.no_grad() # this decorator disables gradient tracking inside pytorch\n",
    "def eval_loss():\n",
    "    _, lossTr = model(Xtr, Ctr, Ytr)\n",
    "    _, lossDe = model(Xde, Cde, Yde)\n",
    "    return lossTr.item(), lossDe.item()\n",
    "    \n",
    "split_loss('train')\n",
    "split_loss('val')"
   ]
  },
  {
   "cell_type": "code",
   "execution_count": 72,
   "id": "231d5fea-a6d1-4c9e-8633-ef4488489fc1",
   "metadata": {},
   "outputs": [
    {
     "data": {
      "text/plain": [
       "[<matplotlib.lines.Line2D at 0x16c57de90>]"
      ]
     },
     "execution_count": 72,
     "metadata": {},
     "output_type": "execute_result"
    },
    {
     "data": {
      "image/png": "[encoded data removed]",
      "text/plain": [
       "<Figure size 640x480 with 1 Axes>"
      ]
     },
     "metadata": {},
     "output_type": "display_data"
    }
   ],
   "source": [
    "plt.plot(torch.tensor(lossi).view(-1,100).mean(1))\n",
    "plt.plot(torch.tensor(lossT))\n",
    "plt.plot(torch.tensor(lossD))"
   ]
  },
  {
   "cell_type": "code",
   "execution_count": null,
   "id": "b8a7b7b9-d77b-4dab-8905-8140a70f6b24",
   "metadata": {
    "tags": []
   },
   "outputs": [],
   "source": []
  },
  {
   "cell_type": "code",
   "execution_count": null,
   "id": "68cf9a47-9ac4-485c-95bf-1f4108621b07",
   "metadata": {},
   "outputs": [],
   "source": []
  }
 ],
 "metadata": {
  "kernelspec": {
   "display_name": "Python 3 (ipykernel)",
   "language": "python",
   "name": "python3"
  },
  "language_info": {
   "codemirror_mode": {
    "name": "ipython",
    "version": 3
   },
   "file_extension": ".py",
   "mimetype": "text/x-python",
   "name": "python",
   "nbconvert_exporter": "python",
   "pygments_lexer": "ipython3",
   "version": "3.11.7"
  }
 },
 "nbformat": 4,
 "nbformat_minor": 5
}
